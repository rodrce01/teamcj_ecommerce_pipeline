{
 "cells": [
  {
   "cell_type": "code",
   "execution_count": null,
   "id": "946192c2-c158-45ee-9293-6f8b1165c21c",
   "metadata": {},
   "outputs": [],
   "source": [
    "#Web application for the data analytics. based off of amazon"
   ]
  }
 ],
 "metadata": {
  "kernelspec": {
   "display_name": "Python 3 (ipykernel)",
   "language": "python",
   "name": "python3"
  },
  "language_info": {
   "codemirror_mode": {
    "name": "ipython",
    "version": 3
   },
   "file_extension": ".py",
   "mimetype": "text/x-python",
   "name": "python",
   "nbconvert_exporter": "python",
   "pygments_lexer": "ipython3",
   "version": "3.13.7"
  }
 },
 "nbformat": 4,
 "nbformat_minor": 5
}
