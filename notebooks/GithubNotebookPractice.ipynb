{
 "cells": [
  {
   "cell_type": "code",
   "execution_count": null,
   "id": "8d33d212-89eb-4dc9-a8c9-1fc6b435efcb",
   "metadata": {},
   "outputs": [],
   "source": [
    "#basic intro notebook and github practice\n",
    "urls = [\n",
    "    \"https://scrape.do/blog/amazon-scraping/\",\n",
    "    \"https://datalemur.com/blog/amazon-data-science\",\n",
    "    \"https://saturncloud.io/blog/how-to-add-jupyter-notebook-to-github/\"\n",
    "]"
   ]
  }
 ],
 "metadata": {
  "kernelspec": {
   "display_name": "Python 3 (ipykernel)",
   "language": "python",
   "name": "python3"
  },
  "language_info": {
   "codemirror_mode": {
    "name": "ipython",
    "version": 3
   },
   "file_extension": ".py",
   "mimetype": "text/x-python",
   "name": "python",
   "nbconvert_exporter": "python",
   "pygments_lexer": "ipython3",
   "version": "3.13.7"
  }
 },
 "nbformat": 4,
 "nbformat_minor": 5
}
